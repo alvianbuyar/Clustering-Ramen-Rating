{
 "cells": [
  {
   "cell_type": "code",
   "execution_count": 1,
   "metadata": {},
   "outputs": [],
   "source": [
    "import pandas as pd\n",
    "import matplotlib.pyplot as plt\n",
    "from sklearn.cluster import KMeans\n"
   ]
  },
  {
   "cell_type": "code",
   "execution_count": 2,
   "metadata": {},
   "outputs": [
    {
     "data": {
      "text/html": [
       "<div>\n",
       "<style scoped>\n",
       "    .dataframe tbody tr th:only-of-type {\n",
       "        vertical-align: middle;\n",
       "    }\n",
       "\n",
       "    .dataframe tbody tr th {\n",
       "        vertical-align: top;\n",
       "    }\n",
       "\n",
       "    .dataframe thead th {\n",
       "        text-align: right;\n",
       "    }\n",
       "</style>\n",
       "<table border=\"1\" class=\"dataframe\">\n",
       "  <thead>\n",
       "    <tr style=\"text-align: right;\">\n",
       "      <th></th>\n",
       "      <th>Review #</th>\n",
       "      <th>Brand</th>\n",
       "      <th>Variety</th>\n",
       "      <th>Style</th>\n",
       "      <th>Country</th>\n",
       "      <th>Stars</th>\n",
       "      <th>Top Ten</th>\n",
       "    </tr>\n",
       "  </thead>\n",
       "  <tbody>\n",
       "    <tr>\n",
       "      <th>0</th>\n",
       "      <td>2580</td>\n",
       "      <td>New Touch</td>\n",
       "      <td>T's Restaurant Tantanmen</td>\n",
       "      <td>Cup</td>\n",
       "      <td>Japan</td>\n",
       "      <td>3.75</td>\n",
       "      <td>NaN</td>\n",
       "    </tr>\n",
       "    <tr>\n",
       "      <th>1</th>\n",
       "      <td>2579</td>\n",
       "      <td>Just Way</td>\n",
       "      <td>Noodles Spicy Hot Sesame Spicy Hot Sesame Guan...</td>\n",
       "      <td>Pack</td>\n",
       "      <td>Taiwan</td>\n",
       "      <td>1</td>\n",
       "      <td>NaN</td>\n",
       "    </tr>\n",
       "    <tr>\n",
       "      <th>2</th>\n",
       "      <td>2578</td>\n",
       "      <td>Nissin</td>\n",
       "      <td>Cup Noodles Chicken Vegetable</td>\n",
       "      <td>Cup</td>\n",
       "      <td>USA</td>\n",
       "      <td>2.25</td>\n",
       "      <td>NaN</td>\n",
       "    </tr>\n",
       "    <tr>\n",
       "      <th>3</th>\n",
       "      <td>2577</td>\n",
       "      <td>Wei Lih</td>\n",
       "      <td>GGE Ramen Snack Tomato Flavor</td>\n",
       "      <td>Pack</td>\n",
       "      <td>Taiwan</td>\n",
       "      <td>2.75</td>\n",
       "      <td>NaN</td>\n",
       "    </tr>\n",
       "    <tr>\n",
       "      <th>4</th>\n",
       "      <td>2576</td>\n",
       "      <td>Ching's Secret</td>\n",
       "      <td>Singapore Curry</td>\n",
       "      <td>Pack</td>\n",
       "      <td>India</td>\n",
       "      <td>3.75</td>\n",
       "      <td>NaN</td>\n",
       "    </tr>\n",
       "  </tbody>\n",
       "</table>\n",
       "</div>"
      ],
      "text/plain": [
       "   Review #           Brand  \\\n",
       "0      2580       New Touch   \n",
       "1      2579        Just Way   \n",
       "2      2578          Nissin   \n",
       "3      2577         Wei Lih   \n",
       "4      2576  Ching's Secret   \n",
       "\n",
       "                                             Variety Style Country Stars  \\\n",
       "0                          T's Restaurant Tantanmen    Cup   Japan  3.75   \n",
       "1  Noodles Spicy Hot Sesame Spicy Hot Sesame Guan...  Pack  Taiwan     1   \n",
       "2                      Cup Noodles Chicken Vegetable   Cup     USA  2.25   \n",
       "3                      GGE Ramen Snack Tomato Flavor  Pack  Taiwan  2.75   \n",
       "4                                    Singapore Curry  Pack   India  3.75   \n",
       "\n",
       "  Top Ten  \n",
       "0     NaN  \n",
       "1     NaN  \n",
       "2     NaN  \n",
       "3     NaN  \n",
       "4     NaN  "
      ]
     },
     "execution_count": 2,
     "metadata": {},
     "output_type": "execute_result"
    }
   ],
   "source": [
    "df = pd.read_csv('ramen-ratings.csv')\n",
    "df.head()\n"
   ]
  },
  {
   "cell_type": "code",
   "execution_count": 3,
   "metadata": {},
   "outputs": [
    {
     "data": {
      "text/plain": [
       "(2580, 7)"
      ]
     },
     "execution_count": 3,
     "metadata": {},
     "output_type": "execute_result"
    }
   ],
   "source": [
    "df.shape\n"
   ]
  },
  {
   "cell_type": "code",
   "execution_count": 4,
   "metadata": {},
   "outputs": [
    {
     "name": "stdout",
     "output_type": "stream",
     "text": [
      "<class 'pandas.core.frame.DataFrame'>\n",
      "RangeIndex: 2580 entries, 0 to 2579\n",
      "Data columns (total 7 columns):\n",
      " #   Column    Non-Null Count  Dtype \n",
      "---  ------    --------------  ----- \n",
      " 0   Review #  2580 non-null   int64 \n",
      " 1   Brand     2580 non-null   object\n",
      " 2   Variety   2580 non-null   object\n",
      " 3   Style     2578 non-null   object\n",
      " 4   Country   2580 non-null   object\n",
      " 5   Stars     2580 non-null   object\n",
      " 6   Top Ten   41 non-null     object\n",
      "dtypes: int64(1), object(6)\n",
      "memory usage: 141.2+ KB\n"
     ]
    }
   ],
   "source": [
    "df.info()\n"
   ]
  },
  {
   "cell_type": "code",
   "execution_count": 5,
   "metadata": {},
   "outputs": [],
   "source": [
    "df.drop(['Top Ten'], axis=1, inplace=True)\n"
   ]
  },
  {
   "cell_type": "code",
   "execution_count": 6,
   "metadata": {},
   "outputs": [
    {
     "name": "stdout",
     "output_type": "stream",
     "text": [
      "<class 'pandas.core.frame.DataFrame'>\n",
      "RangeIndex: 2580 entries, 0 to 2579\n",
      "Data columns (total 6 columns):\n",
      " #   Column    Non-Null Count  Dtype \n",
      "---  ------    --------------  ----- \n",
      " 0   Review #  2580 non-null   int64 \n",
      " 1   Brand     2580 non-null   object\n",
      " 2   Variety   2580 non-null   object\n",
      " 3   Style     2578 non-null   object\n",
      " 4   Country   2580 non-null   object\n",
      " 5   Stars     2580 non-null   object\n",
      "dtypes: int64(1), object(5)\n",
      "memory usage: 121.1+ KB\n"
     ]
    }
   ],
   "source": [
    "df.info()\n"
   ]
  },
  {
   "cell_type": "code",
   "execution_count": 7,
   "metadata": {},
   "outputs": [
    {
     "data": {
      "text/plain": [
       "Review #    0\n",
       "Brand       0\n",
       "Variety     0\n",
       "Style       2\n",
       "Country     0\n",
       "Stars       0\n",
       "dtype: int64"
      ]
     },
     "execution_count": 7,
     "metadata": {},
     "output_type": "execute_result"
    }
   ],
   "source": [
    "df.isna().sum()"
   ]
  },
  {
   "cell_type": "code",
   "execution_count": 8,
   "metadata": {},
   "outputs": [],
   "source": [
    "df.dropna(inplace=True)"
   ]
  },
  {
   "cell_type": "code",
   "execution_count": 9,
   "metadata": {},
   "outputs": [
    {
     "data": {
      "text/plain": [
       "Review #    0\n",
       "Brand       0\n",
       "Variety     0\n",
       "Style       0\n",
       "Country     0\n",
       "Stars       0\n",
       "dtype: int64"
      ]
     },
     "execution_count": 9,
     "metadata": {},
     "output_type": "execute_result"
    }
   ],
   "source": [
    "df.isna().sum()"
   ]
  },
  {
   "cell_type": "code",
   "execution_count": 10,
   "metadata": {},
   "outputs": [
    {
     "data": {
      "text/html": [
       "<div>\n",
       "<style scoped>\n",
       "    .dataframe tbody tr th:only-of-type {\n",
       "        vertical-align: middle;\n",
       "    }\n",
       "\n",
       "    .dataframe tbody tr th {\n",
       "        vertical-align: top;\n",
       "    }\n",
       "\n",
       "    .dataframe thead th {\n",
       "        text-align: right;\n",
       "    }\n",
       "</style>\n",
       "<table border=\"1\" class=\"dataframe\">\n",
       "  <thead>\n",
       "    <tr style=\"text-align: right;\">\n",
       "      <th></th>\n",
       "      <th>Brand</th>\n",
       "      <th>Variety</th>\n",
       "      <th>Country</th>\n",
       "      <th>Style</th>\n",
       "      <th>Stars</th>\n",
       "    </tr>\n",
       "  </thead>\n",
       "  <tbody>\n",
       "    <tr>\n",
       "      <th>0</th>\n",
       "      <td>New Touch</td>\n",
       "      <td>T's Restaurant Tantanmen</td>\n",
       "      <td>Japan</td>\n",
       "      <td>Cup</td>\n",
       "      <td>3.75</td>\n",
       "    </tr>\n",
       "    <tr>\n",
       "      <th>1</th>\n",
       "      <td>Just Way</td>\n",
       "      <td>Noodles Spicy Hot Sesame Spicy Hot Sesame Guan...</td>\n",
       "      <td>Taiwan</td>\n",
       "      <td>Pack</td>\n",
       "      <td>1</td>\n",
       "    </tr>\n",
       "    <tr>\n",
       "      <th>2</th>\n",
       "      <td>Nissin</td>\n",
       "      <td>Cup Noodles Chicken Vegetable</td>\n",
       "      <td>USA</td>\n",
       "      <td>Cup</td>\n",
       "      <td>2.25</td>\n",
       "    </tr>\n",
       "    <tr>\n",
       "      <th>3</th>\n",
       "      <td>Wei Lih</td>\n",
       "      <td>GGE Ramen Snack Tomato Flavor</td>\n",
       "      <td>Taiwan</td>\n",
       "      <td>Pack</td>\n",
       "      <td>2.75</td>\n",
       "    </tr>\n",
       "    <tr>\n",
       "      <th>4</th>\n",
       "      <td>Ching's Secret</td>\n",
       "      <td>Singapore Curry</td>\n",
       "      <td>India</td>\n",
       "      <td>Pack</td>\n",
       "      <td>3.75</td>\n",
       "    </tr>\n",
       "  </tbody>\n",
       "</table>\n",
       "</div>"
      ],
      "text/plain": [
       "            Brand                                            Variety Country  \\\n",
       "0       New Touch                          T's Restaurant Tantanmen    Japan   \n",
       "1        Just Way  Noodles Spicy Hot Sesame Spicy Hot Sesame Guan...  Taiwan   \n",
       "2          Nissin                      Cup Noodles Chicken Vegetable     USA   \n",
       "3         Wei Lih                      GGE Ramen Snack Tomato Flavor  Taiwan   \n",
       "4  Ching's Secret                                    Singapore Curry   India   \n",
       "\n",
       "  Style Stars  \n",
       "0   Cup  3.75  \n",
       "1  Pack     1  \n",
       "2   Cup  2.25  \n",
       "3  Pack  2.75  \n",
       "4  Pack  3.75  "
      ]
     },
     "execution_count": 10,
     "metadata": {},
     "output_type": "execute_result"
    }
   ],
   "source": [
    "df = df[['Brand', 'Variety', 'Country', 'Style', 'Stars']]\n",
    "df.head()"
   ]
  },
  {
   "cell_type": "code",
   "execution_count": 11,
   "metadata": {},
   "outputs": [
    {
     "data": {
      "text/html": [
       "<div>\n",
       "<style scoped>\n",
       "    .dataframe tbody tr th:only-of-type {\n",
       "        vertical-align: middle;\n",
       "    }\n",
       "\n",
       "    .dataframe tbody tr th {\n",
       "        vertical-align: top;\n",
       "    }\n",
       "\n",
       "    .dataframe thead th {\n",
       "        text-align: right;\n",
       "    }\n",
       "</style>\n",
       "<table border=\"1\" class=\"dataframe\">\n",
       "  <thead>\n",
       "    <tr style=\"text-align: right;\">\n",
       "      <th></th>\n",
       "      <th>Brand</th>\n",
       "      <th>Variety</th>\n",
       "      <th>Country</th>\n",
       "      <th>Style</th>\n",
       "      <th>Stars</th>\n",
       "    </tr>\n",
       "  </thead>\n",
       "  <tbody>\n",
       "    <tr>\n",
       "      <th>0</th>\n",
       "      <td>190</td>\n",
       "      <td>2187</td>\n",
       "      <td>18</td>\n",
       "      <td>4</td>\n",
       "      <td>36</td>\n",
       "    </tr>\n",
       "    <tr>\n",
       "      <th>1</th>\n",
       "      <td>119</td>\n",
       "      <td>1441</td>\n",
       "      <td>32</td>\n",
       "      <td>5</td>\n",
       "      <td>6</td>\n",
       "    </tr>\n",
       "    <tr>\n",
       "      <th>2</th>\n",
       "      <td>192</td>\n",
       "      <td>453</td>\n",
       "      <td>35</td>\n",
       "      <td>4</td>\n",
       "      <td>15</td>\n",
       "    </tr>\n",
       "    <tr>\n",
       "      <th>3</th>\n",
       "      <td>336</td>\n",
       "      <td>707</td>\n",
       "      <td>32</td>\n",
       "      <td>5</td>\n",
       "      <td>18</td>\n",
       "    </tr>\n",
       "    <tr>\n",
       "      <th>4</th>\n",
       "      <td>38</td>\n",
       "      <td>1952</td>\n",
       "      <td>16</td>\n",
       "      <td>5</td>\n",
       "      <td>36</td>\n",
       "    </tr>\n",
       "  </tbody>\n",
       "</table>\n",
       "</div>"
      ],
      "text/plain": [
       "   Brand  Variety  Country  Style  Stars\n",
       "0    190     2187       18      4     36\n",
       "1    119     1441       32      5      6\n",
       "2    192      453       35      4     15\n",
       "3    336      707       32      5     18\n",
       "4     38     1952       16      5     36"
      ]
     },
     "execution_count": 11,
     "metadata": {},
     "output_type": "execute_result"
    }
   ],
   "source": [
    "from sklearn.preprocessing import LabelEncoder # for encoding categorical data\n",
    "\n",
    "enc = LabelEncoder()\n",
    "\n",
    "df['Brand'] = enc.fit_transform(df['Brand'].values)\n",
    "df['Variety'] = enc.fit_transform(df['Variety'].values)\n",
    "df['Style'] = enc.fit_transform(df['Style'].astype(str))\n",
    "df['Country'] = enc.fit_transform(df['Country'].values)\n",
    "df['Stars'] = enc.fit_transform(df['Stars'].values)\n",
    "df.head()\n"
   ]
  },
  {
   "cell_type": "code",
   "execution_count": 12,
   "metadata": {},
   "outputs": [
    {
     "data": {
      "text/html": [
       "<div>\n",
       "<style scoped>\n",
       "    .dataframe tbody tr th:only-of-type {\n",
       "        vertical-align: middle;\n",
       "    }\n",
       "\n",
       "    .dataframe tbody tr th {\n",
       "        vertical-align: top;\n",
       "    }\n",
       "\n",
       "    .dataframe thead th {\n",
       "        text-align: right;\n",
       "    }\n",
       "</style>\n",
       "<table border=\"1\" class=\"dataframe\">\n",
       "  <thead>\n",
       "    <tr style=\"text-align: right;\">\n",
       "      <th></th>\n",
       "      <th>Brand</th>\n",
       "      <th>Variety</th>\n",
       "      <th>Country</th>\n",
       "      <th>Style</th>\n",
       "      <th>Stars</th>\n",
       "    </tr>\n",
       "  </thead>\n",
       "  <tbody>\n",
       "    <tr>\n",
       "      <th>0</th>\n",
       "      <td>0.536723</td>\n",
       "      <td>0.907469</td>\n",
       "      <td>0.486486</td>\n",
       "      <td>0.666667</td>\n",
       "      <td>0.72</td>\n",
       "    </tr>\n",
       "    <tr>\n",
       "      <th>1</th>\n",
       "      <td>0.336158</td>\n",
       "      <td>0.597925</td>\n",
       "      <td>0.864865</td>\n",
       "      <td>0.833333</td>\n",
       "      <td>0.12</td>\n",
       "    </tr>\n",
       "    <tr>\n",
       "      <th>2</th>\n",
       "      <td>0.542373</td>\n",
       "      <td>0.187967</td>\n",
       "      <td>0.945946</td>\n",
       "      <td>0.666667</td>\n",
       "      <td>0.30</td>\n",
       "    </tr>\n",
       "    <tr>\n",
       "      <th>3</th>\n",
       "      <td>0.949153</td>\n",
       "      <td>0.293361</td>\n",
       "      <td>0.864865</td>\n",
       "      <td>0.833333</td>\n",
       "      <td>0.36</td>\n",
       "    </tr>\n",
       "    <tr>\n",
       "      <th>4</th>\n",
       "      <td>0.107345</td>\n",
       "      <td>0.809959</td>\n",
       "      <td>0.432432</td>\n",
       "      <td>0.833333</td>\n",
       "      <td>0.72</td>\n",
       "    </tr>\n",
       "  </tbody>\n",
       "</table>\n",
       "</div>"
      ],
      "text/plain": [
       "      Brand   Variety   Country     Style  Stars\n",
       "0  0.536723  0.907469  0.486486  0.666667   0.72\n",
       "1  0.336158  0.597925  0.864865  0.833333   0.12\n",
       "2  0.542373  0.187967  0.945946  0.666667   0.30\n",
       "3  0.949153  0.293361  0.864865  0.833333   0.36\n",
       "4  0.107345  0.809959  0.432432  0.833333   0.72"
      ]
     },
     "execution_count": 12,
     "metadata": {},
     "output_type": "execute_result"
    }
   ],
   "source": [
    "from sklearn.preprocessing import MinMaxScaler # for scaling data\n",
    "scaler = MinMaxScaler()\n",
    "\n",
    "scaler.fit(df[['Brand']])\n",
    "df['Brand'] = scaler.transform(df[['Brand']])\n",
    "scaler.fit(df[['Variety']])\n",
    "df['Variety'] = scaler.transform(df[['Variety']])\n",
    "scaler.fit(df[['Country']])\n",
    "df['Country'] = scaler.transform(df[['Country']])\n",
    "scaler.fit(df[['Style']])\n",
    "df['Style'] = scaler.transform(df[['Style']])\n",
    "scaler.fit(df[['Stars']])\n",
    "df['Stars'] = scaler.transform(df[['Stars']])\n",
    "df.head()\n"
   ]
  },
  {
   "cell_type": "code",
   "execution_count": 13,
   "metadata": {},
   "outputs": [],
   "source": [
    "data = df.iloc[:, [1,3]].values\n",
    "\n"
   ]
  },
  {
   "cell_type": "code",
   "execution_count": 14,
   "metadata": {},
   "outputs": [
    {
     "data": {
      "text/plain": [
       "Text(0.5, 0, 'Number of clusters')"
      ]
     },
     "execution_count": 14,
     "metadata": {},
     "output_type": "execute_result"
    },
    {
     "data": {
      "image/png": "[encoded data removed]",
      "text/plain": [
       "<Figure size 432x288 with 1 Axes>"
      ]
     },
     "metadata": {
      "needs_background": "light"
     },
     "output_type": "display_data"
    }
   ],
   "source": [
    "results = []\n",
    "for i in range(1, 11):\n",
    "  kmeans = KMeans(n_clusters=i, init='k-means++', random_state=42)\n",
    "  labels = kmeans.fit(data)\n",
    "  results.append(kmeans.inertia_)\n",
    "plt.plot(range(1, 11), results)\n",
    "plt.title('Elbow Method')\n",
    "plt.xlabel('Number of clusters')\n",
    "\n"
   ]
  },
  {
   "cell_type": "code",
   "execution_count": 15,
   "metadata": {},
   "outputs": [],
   "source": [
    "kmeans = KMeans(n_clusters=3, init='k-means++', random_state=42)\n",
    "y_kmeans = kmeans.fit_predict(data)"
   ]
  },
  {
   "cell_type": "code",
   "execution_count": 16,
   "metadata": {},
   "outputs": [
    {
     "data": {
      "image/png": "[encoded data removed]",
      "text/plain": [
       "<Figure size 432x288 with 1 Axes>"
      ]
     },
     "metadata": {
      "needs_background": "light"
     },
     "output_type": "display_data"
    }
   ],
   "source": [
    "plt.scatter(data[y_kmeans == 0, 0], data[y_kmeans == 0, 1], s=10, c='red', label='Cluster 1')\n",
    "plt.scatter(data[y_kmeans == 1, 0], data[y_kmeans == 1, 1], s=10, c='blue', label='Cluster 2')\n",
    "plt.scatter(data[y_kmeans == 2, 0], data[y_kmeans == 2, 1], s=10, c='green', label='Cluster 3')\n",
    "\n",
    "plt.scatter(kmeans.cluster_centers_[:, 0], kmeans.cluster_centers_[:, 1], s=100, c='yellow', label='Centroids')\n",
    "\n",
    "plt.title('Clusters of ramen')\n",
    "plt.xlabel('Variety')\n",
    "plt.ylabel('Style')\n",
    "plt.legend()\n",
    "plt.show()"
   ]
  }
 ],
 "metadata": {
  "interpreter": {
   "hash": "e504c984ecdfeda7a29fbe7999524d88f7c7252a00f9ea6ea2f5337e2d8a7c1b"
  },
  "kernelspec": {
   "display_name": "Python 3.9.7 64-bit ('virtual': venv)",
   "language": "python",
   "name": "python3"
  },
  "language_info": {
   "codemirror_mode": {
    "name": "ipython",
    "version": 3
   },
   "file_extension": ".py",
   "mimetype": "text/x-python",
   "name": "python",
   "nbconvert_exporter": "python",
   "pygments_lexer": "ipython3",
   "version": "3.9.7"
  },
  "orig_nbformat": 4
 },
 "nbformat": 4,
 "nbformat_minor": 2
}
